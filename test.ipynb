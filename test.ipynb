{
 "cells": [
  {
   "cell_type": "code",
   "execution_count": 1,
   "metadata": {},
   "outputs": [],
   "source": [
    "import numpy as np\n",
    "def CompurteQ(n,r,ts,te):\n",
    "    '''\n",
    "    args:\n",
    "        n is the number of parameters\n",
    "        r is the derivative order\n",
    "        ts is the start time of this segment\n",
    "        te is the end time of this segment\n",
    "    return:\n",
    "        one segment Q matrix of QP.\n",
    "    '''\n",
    "    Q = np.zeros((n,n))\n",
    "    for i in range(n):\n",
    "        for j in range(n):\n",
    "            if i >= r and j >= r:\n",
    "                factor = i+j-2*r+1\n",
    "                Q[n-1-i][n-1-j] = factorial(i,r)*factorial(j,r)/factor*(te**factor-ts**factor)\n",
    "    return Q\n",
    "\n",
    "def factorial(n,r):\n",
    "    '''\n",
    "    return A_n^(n-r)\n",
    "    '''\n",
    "    if (n < r):\n",
    "        return 0\n",
    "    ans = 1\n",
    "    for _ in range(r):\n",
    "        ans = ans*n\n",
    "        n -= 1\n",
    "        \n",
    "    return ans"
   ]
  },
  {
   "cell_type": "code",
   "execution_count": 2,
   "metadata": {},
   "outputs": [
    {
     "name": "stdout",
     "output_type": "stream",
     "text": [
      "[[720. 360. 120.   0.   0.   0.]\n",
      " [360. 192.  72.   0.   0.   0.]\n",
      " [120.  72.  36.   0.   0.   0.]\n",
      " [  0.   0.   0.   0.   0.   0.]\n",
      " [  0.   0.   0.   0.   0.   0.]\n",
      " [  0.   0.   0.   0.   0.   0.]]\n"
     ]
    }
   ],
   "source": [
    "n = 6\n",
    "r = 3\n",
    "ts = 0\n",
    "te = 1\n",
    "print(CompurteQ(n,r,ts,te))"
   ]
  }
 ],
 "metadata": {
  "kernelspec": {
   "display_name": "Python 3",
   "language": "python",
   "name": "python3"
  },
  "language_info": {
   "codemirror_mode": {
    "name": "ipython",
    "version": 3
   },
   "file_extension": ".py",
   "mimetype": "text/x-python",
   "name": "python",
   "nbconvert_exporter": "python",
   "pygments_lexer": "ipython3",
   "version": "3.10.6"
  },
  "orig_nbformat": 4,
  "vscode": {
   "interpreter": {
    "hash": "e7370f93d1d0cde622a1f8e1c04877d8463912d04d973331ad4851f04de6915a"
   }
  }
 },
 "nbformat": 4,
 "nbformat_minor": 2
}
