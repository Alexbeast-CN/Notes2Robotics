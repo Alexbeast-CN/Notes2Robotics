{
 "cells": [
  {
   "cell_type": "code",
   "execution_count": 1,
   "metadata": {},
   "outputs": [
    {
     "name": "stdout",
     "output_type": "stream",
     "text": [
      "optimal x: [ 0.12499999 -0.87500001]\n",
      "optimal obj: -0.06250000000445632\n"
     ]
    }
   ],
   "source": [
    "import numpy as np\n",
    "from scipy.optimize import minimize\n",
    "\n",
    "# Define the problem matrices\n",
    "P = np.array([[4, 1], [1, 2]])\n",
    "q = np.array([1, 1])\n",
    "A = np.array([[1, 1], [1, 0], [0, 1]])\n",
    "l = np.array([1, 0, 0])\n",
    "u = np.array([1, 0.7, 0.7])\n",
    "\n",
    "# Define the objective function and constraints\n",
    "def objective(x):\n",
    "  return 0.5 * x.T @ P @ x + q @ x\n",
    "\n",
    "def constraint1(x):\n",
    "  return x[0] - x[1] - 1\n",
    "\n",
    "def constraint2(x):\n",
    "  return 1 - x[0]\n",
    "\n",
    "def constraint3(x):\n",
    "  return 1 - x[1]\n",
    "\n",
    "con1 = {'type': 'ineq', 'fun': constraint1}\n",
    "con2 = {'type': 'ineq', 'fun': constraint2}\n",
    "con3 = {'type': 'ineq', 'fun': constraint3}\n",
    "cons = [con1, con2, con3]\n",
    "\n",
    "# Solve the QP problem\n",
    "solution = minimize(objective, x0=np.zeros(2), method='SLSQP', constraints=cons)\n",
    "\n",
    "# Print the optimal solution and objective value\n",
    "print(f\"optimal x: {solution.x}\")\n",
    "print(f\"optimal obj: {solution.fun}\")\n"
   ]
  },
  {
   "cell_type": "code",
   "execution_count": 8,
   "metadata": {},
   "outputs": [],
   "source": [
    "import numpy as np\n",
    "def factorial(n,r):\n",
    "    '''\n",
    "    n is the number of parameters\n",
    "    r is the derivative order\n",
    "    '''\n",
    "    if (n < r):\n",
    "        return 0\n",
    "    ans = 1\n",
    "    for _ in range(r):\n",
    "        ans = ans*n\n",
    "        n -= 1\n",
    "        \n",
    "    return ans"
   ]
  },
  {
   "cell_type": "code",
   "execution_count": 12,
   "metadata": {},
   "outputs": [
    {
     "name": "stdout",
     "output_type": "stream",
     "text": [
      "[[720. 360. 120.   0.   0.   0.]\n",
      " [360. 192.  72.   0.   0.   0.]\n",
      " [120.  72.  36.   0.   0.   0.]\n",
      " [  0.   0.   0.   0.   0.   0.]\n",
      " [  0.   0.   0.   0.   0.   0.]\n",
      " [  0.   0.   0.   0.   0.   0.]]\n"
     ]
    }
   ],
   "source": [
    "n = 6\n",
    "Q = np.zeros((n,n))\n",
    "r = 3\n",
    "for i in range(n):\n",
    "    for j in range(n):\n",
    "        if i >= r and j >= r:\n",
    "            Q[n-1-i][n-1-j] = factorial(i,r)*factorial(j,r)/(i+j-2*r+1)\n",
    "\n",
    "print(Q)"
   ]
  },
  {
   "cell_type": "code",
   "execution_count": 17,
   "metadata": {},
   "outputs": [
    {
     "name": "stdout",
     "output_type": "stream",
     "text": [
      "1\n"
     ]
    }
   ],
   "source": [
    "array = np.array([[1,2,3],[2,3,1]])\n",
    "print(array[0][0])"
   ]
  }
 ],
 "metadata": {
  "kernelspec": {
   "display_name": "Python 3",
   "language": "python",
   "name": "python3"
  },
  "language_info": {
   "codemirror_mode": {
    "name": "ipython",
    "version": 3
   },
   "file_extension": ".py",
   "mimetype": "text/x-python",
   "name": "python",
   "nbconvert_exporter": "python",
   "pygments_lexer": "ipython3",
   "version": "3.10.6"
  },
  "orig_nbformat": 4,
  "vscode": {
   "interpreter": {
    "hash": "e7370f93d1d0cde622a1f8e1c04877d8463912d04d973331ad4851f04de6915a"
   }
  }
 },
 "nbformat": 4,
 "nbformat_minor": 2
}
