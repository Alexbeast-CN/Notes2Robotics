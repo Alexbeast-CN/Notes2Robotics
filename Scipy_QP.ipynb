{
 "cells": [
  {
   "cell_type": "code",
   "execution_count": 1,
   "metadata": {},
   "outputs": [
    {
     "name": "stdout",
     "output_type": "stream",
     "text": [
      "optimal x: [ 0.12499999 -0.87500001]\n",
      "optimal obj: -0.06250000000445632\n"
     ]
    }
   ],
   "source": [
    "import numpy as np\n",
    "from scipy.optimize import minimize\n",
    "\n",
    "# Define the problem matrices\n",
    "P = np.array([[4, 1], [1, 2]])\n",
    "q = np.array([1, 1])\n",
    "A = np.array([[1, 1], [1, 0], [0, 1]])\n",
    "l = np.array([1, 0, 0])\n",
    "u = np.array([1, 0.7, 0.7])\n",
    "\n",
    "# Define the objective function and constraints\n",
    "def objective(x):\n",
    "  return 0.5 * x.T @ P @ x + q @ x\n",
    "\n",
    "def constraint1(x):\n",
    "  return x[0] - x[1] - 1\n",
    "\n",
    "def constraint2(x):\n",
    "  return 1 - x[0]\n",
    "\n",
    "def constraint3(x):\n",
    "  return 1 - x[1]\n",
    "\n",
    "con1 = {'type': 'ineq', 'fun': constraint1}\n",
    "con2 = {'type': 'ineq', 'fun': constraint2}\n",
    "con3 = {'type': 'ineq', 'fun': constraint3}\n",
    "cons = [con1, con2, con3]\n",
    "\n",
    "# Solve the QP problem\n",
    "solution = minimize(objective, x0=np.zeros(2), method='SLSQP', constraints=cons)\n",
    "\n",
    "# Print the optimal solution and objective value\n",
    "print(f\"optimal x: {solution.x}\")\n",
    "print(f\"optimal obj: {solution.fun}\")\n"
   ]
  }
 ],
 "metadata": {
  "kernelspec": {
   "display_name": "Python 3",
   "language": "python",
   "name": "python3"
  },
  "language_info": {
   "codemirror_mode": {
    "name": "ipython",
    "version": 3
   },
   "file_extension": ".py",
   "mimetype": "text/x-python",
   "name": "python",
   "nbconvert_exporter": "python",
   "pygments_lexer": "ipython3",
   "version": "3.10.6"
  },
  "orig_nbformat": 4,
  "vscode": {
   "interpreter": {
    "hash": "e7370f93d1d0cde622a1f8e1c04877d8463912d04d973331ad4851f04de6915a"
   }
  }
 },
 "nbformat": 4,
 "nbformat_minor": 2
}
