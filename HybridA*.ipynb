{
 "cells": [
  {
   "attachments": {},
   "cell_type": "markdown",
   "metadata": {},
   "source": [
    "# Hybrid A* 原理与代码\n",
    "\n",
    "> Refs:\n",
    "> - [Paper | Dmitri Dolgov, et. al. Practical Search Techniques in Path Planning for Autonomous Driving](https://www.aaai.org/Papers/Workshops/2008/WS-08-10/WS08-10-006.pdf)\n",
    "> - [Python Code on github | PythonRobotics/Hybrid A*](https://github.com/Alexbeast-CN/PythonRobotics/tree/master/PathPlanning/HybridAStar)"
   ]
  },
  {
   "attachments": {},
   "cell_type": "markdown",
   "metadata": {},
   "source": [
    "## 1. 简介\n",
    "\n",
    "Hybrid A* 是 2004 年 DARPA 城市挑战中的冠军车队使用的全局导航算法。相比与传统的 A* 算法，Hybrid A* 将由基于栅格地图的四邻域，八邻域的节点拓展方式，更换为了符合车辆动力学 (Kinodynamics) 的运动轨迹：\n",
    "\n",
    "<center>\n",
    "\n",
    "![拓展方式](./pics/expansion.png)\n",
    "\n",
    "</center>"
   ]
  },
  {
   "attachments": {},
   "cell_type": "markdown",
   "metadata": {},
   "source": [
    "为什么我们需要 Kinodynamics 呢？因为车辆运动学模型的限制，车辆无法按照 A* 所生成的路径行走。例如如下图所示的情况，车辆最初的朝向是向下的，而 A* 的路径则是从障碍物的上方绕过去的。由于转弯半径的限制，这样的路径是无法跟随，而 Hybrid A* 则会考虑到车辆初始方向和终点方向，以及每一次节点拓展都符合车辆的运动学，因此生成的路径一定是车辆可以跟随的。\n",
    "\n",
    "<center>\n",
    "\n",
    "![A* 与 Hybrid A* 路径对比](./pics/Whykino.png)\n",
    "\n",
    "</center>"
   ]
  },
  {
   "attachments": {},
   "cell_type": "markdown",
   "metadata": {},
   "source": [
    "## 2. 算法流程与实现"
   ]
  },
  {
   "attachments": {},
   "cell_type": "markdown",
   "metadata": {},
   "source": [
    "\n",
    "### 2.1 车辆的运动模型与碰撞模型\n",
    "\n",
    "Ackman 底盘的汽车可以简化为一个两轮的自行车模型：\n",
    "\n",
    "<center>\n",
    "\n",
    "![自行车模型](./pics/kinematicsmodel.png)\n",
    "\n",
    "</center>"
   ]
  },
  {
   "attachments": {},
   "cell_type": "markdown",
   "metadata": {},
   "source": [
    "该模型的运动学表达式为：\n",
    "\n",
    "$$\n",
    "\\begin{align*}\n",
    "  &\\dot{x} = v \\cos \\psi \\\\\n",
    "  &\\dot{y} = v \\sin \\psi \\\\\n",
    "  &\\dot{\\psi} = \\frac{v}{l_f + l_r} \\tan \\delta\n",
    "\\end{align*}\n",
    "$$\n",
    "\n",
    "其中，$v$ 为车辆的线速度，$\\psi$ 为车辆的朝向角，$\\delta$ 为车辆的转向角，$l_f$ 为前轮距离车辆重心的距离，$l_r$ 为后轮距离车辆重心的距离。\n",
    "\n",
    "其 Python 实现如下："
   ]
  },
  {
   "cell_type": "code",
   "execution_count": 1,
   "metadata": {},
   "outputs": [],
   "source": [
    "from math import cos, sin, tan, pi\n",
    "\n",
    "def pi_2_pi(angle):\n",
    "    return (angle + pi) % (2 * pi) - pi\n",
    "\n",
    "def move(x, y, yaw, distance, steer, L):\n",
    "    x += distance * cos(yaw)\n",
    "    y += distance * sin(yaw)\n",
    "    yaw += pi_2_pi(distance * tan(steer) / L)  # distance/2\n",
    "\n",
    "    return x, y, yaw"
   ]
  },
  {
   "attachments": {},
   "cell_type": "markdown",
   "metadata": {},
   "source": [
    "假设现在有一辆车，其几何信息为：\n",
    "\n",
    "- 宽度 W = 2m\n",
    "- 前后轮的距离 WB = 3m\n",
    "- 后轮到车最前端的距离为 LF = 3.3m\n",
    "- 后轮到车最后端的距离为 LB = 1m\n",
    "- 最大转向角为 $\\pm$ pi/5\n",
    "- 车辆的圆心与后轮相距 BUBBLE_DIST = (LF - LB) / 2\n",
    "- 圆的半径为  BUBBLE_R = $\\sqrt{}$ ((LF + LB) / 2)^2 + (W / 2)^2\n",
    "\n",
    "```python"
   ]
  },
  {
   "cell_type": "code",
   "execution_count": 7,
   "metadata": {},
   "outputs": [],
   "source": [
    "import numpy as np\n",
    "import matplotlib.pyplot as plt\n",
    "\n",
    "WB = 3.0  # rear to front wheel\n",
    "W = 2.0  # width of car\n",
    "LF = 3.3  # distance from rear to vehicle front end\n",
    "LB = 1.0  # distance from rear to vehicle back end\n",
    "MAX_STEER = pi/5  # [rad] maximum steering angle\n",
    "\n",
    "BUBBLE_DIST = (LF - LB) / 2.0  # distance from rear to center of vehicle.\n",
    "BUBBLE_R = np.hypot((LF + LB) / 2.0, W / 2.0)  # bubble radius\n",
    "\n",
    "# vehicle rectangle vertices\n",
    "VRX = [LF, LF, -LB, -LB, LF]\n",
    "VRY = [W / 2, -W / 2, -W / 2, W / 2, W / 2]"
   ]
  },
  {
   "attachments": {},
   "cell_type": "markdown",
   "metadata": {},
   "source": [
    "由于车辆的运动轨迹只由质点表示，因此还需要对每一个路径点进行额外的碰撞检测。首先我们利用 [KDtree](https://docs.scipy.org/doc/scipy/reference/generated/scipy.spatial.KDTree.html) 获取车辆外接圆范围内的所有障碍物，然后对障碍物检查是否在车辆的矩形内。"
   ]
  },
  {
   "cell_type": "markdown",
   "metadata": {},
   "source": []
  },
  {
   "cell_type": "code",
   "execution_count": 13,
   "metadata": {},
   "outputs": [],
   "source": [
    "def plot_arrow(x, y, yaw, length=1.0, width=0.5, fc=\"r\", ec=\"k\"):\n",
    "    \"\"\"Plot arrow.\"\"\"\n",
    "    if not isinstance(x, float):\n",
    "        for (i_x, i_y, i_yaw) in zip(x, y, yaw):\n",
    "            plot_arrow(i_x, i_y, i_yaw)\n",
    "    else:\n",
    "        plt.arrow(x, y, length * cos(yaw), length * sin(yaw),\n",
    "                  fc=fc, ec=ec, head_width=width, head_length=width, alpha=0.4)\n",
    "\n",
    "def rot_mat_2d(angle):\n",
    "    return np.array([[cos(angle), -sin(angle)],\n",
    "                     [sin(angle), cos(angle)]])\n",
    "    \n",
    "def plot_car(x, y, yaw):\n",
    "    car_color = '-k'\n",
    "    c, s = cos(yaw), sin(yaw)\n",
    "    rot = rot_mat_2d(-yaw)\n",
    "    car_outline_x, car_outline_y = [], []\n",
    "    for rx, ry in zip(VRX, VRY):\n",
    "        converted_xy = np.stack([rx, ry]).T @ rot\n",
    "        car_outline_x.append(converted_xy[0]+x)\n",
    "        car_outline_y.append(converted_xy[1]+y)\n",
    "        \n",
    "    arrow_x, arrow_y, arrow_yaw = c * 1.5 + x, s * 1.5 + y, yaw\n",
    "    plot_arrow(arrow_x, arrow_y, arrow_yaw)\n",
    "    plt.plot(car_outline_x, car_outline_y, car_color)\n",
    "    \n",
    "def plot_cllision_model(x, y, yaw):\n",
    "    plot_car(x, y, yaw)\n",
    "    plt.plot(x,y,marker='o',color='r')\n",
    "    cx = x + BUBBLE_DIST * cos(yaw)\n",
    "    cy = y + BUBBLE_DIST * sin(yaw)\n",
    "    circle1 = plt.Circle((cx, cy), BUBBLE_R, color='r', fill=False)\n",
    "    plt.gcf().gca().add_artist(circle1)\n",
    "\n"
   ]
  },
  {
   "cell_type": "code",
   "execution_count": 14,
   "metadata": {},
   "outputs": [
    {
     "data": {
      "image/png": "[encoded data removed]",
      "text/plain": [
       "<Figure size 640x480 with 1 Axes>"
      ]
     },
     "metadata": {},
     "output_type": "display_data"
    }
   ],
   "source": [
    "x, y, yaw = 0., 0., 1.\n",
    "plt.axis('equal')\n",
    "plot_cllision_model(x, y, yaw)\n",
    "plt.show()"
   ]
  },
  {
   "attachments": {},
   "cell_type": "markdown",
   "metadata": {},
   "source": [
    "矩形碰撞检测，首先将障碍物的点利用旋转矩阵旋转到车辆坐标系下，然后判断障碍物的点是否在车辆的矩形内。算法代码如下："
   ]
  },
  {
   "cell_type": "code",
   "execution_count": 15,
   "metadata": {},
   "outputs": [],
   "source": [
    "def check_car_collision(x_list, y_list, yaw_list, ox, oy, kd_tree):\n",
    "    for i_x, i_y, i_yaw in zip(x_list, y_list, yaw_list):\n",
    "        cx = i_x + BUBBLE_DIST * cos(i_yaw)\n",
    "        cy = i_y + BUBBLE_DIST * sin(i_yaw)\n",
    "\n",
    "        ids = kd_tree.query_ball_point([cx, cy], BUBBLE_R)\n",
    "\n",
    "        if not ids:\n",
    "            continue\n",
    "\n",
    "        if not rectangle_check(i_x, i_y, i_yaw,\n",
    "                               [ox[i] for i in ids], [oy[i] for i in ids]):\n",
    "            return False  # collision\n",
    "\n",
    "    return True  # no collision\n",
    "\n",
    "\n",
    "def rectangle_check(x, y, yaw, ox, oy):\n",
    "    # transform obstacles to base link frame\n",
    "    rot = rot_mat_2d(yaw)\n",
    "    for iox, ioy in zip(ox, oy):\n",
    "        tx = iox - x\n",
    "        ty = ioy - y\n",
    "        converted_xy = np.stack([tx, ty]).T @ rot\n",
    "        rx, ry = converted_xy[0], converted_xy[1]\n",
    "\n",
    "        if not (rx > LF or rx < -LB or ry > W / 2.0 or ry < -W / 2.0):\n",
    "            return False  # no collision\n",
    "\n",
    "    return True  # collision"
   ]
  },
  {
   "attachments": {},
   "cell_type": "markdown",
   "metadata": {},
   "source": [
    "### 2.2 地图、节点、与路径\n",
    "\n",
    "对于任何机器人来说，地图都是有精度的，该精度与地图的尺度有关。通常机器人会储存两个以上的地图，一个尺度较大的地图，用于全局路径规划，但精度低。一个尺度较小的地图，用于局部路径规划，精度高。由于 Hybrid A* 是一个全局路径规划算法，所以这里所使用的地图精度为 2m。地图的角度精度为 5 度。地图上所有的点，以及角度都会被转换为整数。"
   ]
  },
  {
   "cell_type": "code",
   "execution_count": null,
   "metadata": {},
   "outputs": [],
   "source": [
    "XY_GRID_RESOLUTION = 2.0  # [m]\n",
    "YAW_GRID_RESOLUTION = np.deg2rad(5.0)  # [rad]\n",
    "\n",
    "x_ind = round(x / XY_GRID_RESOLUTION)\n",
    "y_ind = round(y / XY_GRID_RESOLUTION)\n",
    "yaw_ind = round(yaw / YAW_GRID_RESOLUTION)"
   ]
  },
  {
   "cell_type": "markdown",
   "metadata": {},
   "source": []
  },
  {
   "cell_type": "code",
   "execution_count": null,
   "metadata": {},
   "outputs": [],
   "source": [
    "class Node:\n",
    "\n",
    "    def __init__(self, x_ind, y_ind, yaw_ind, direction,\n",
    "                 x_list, y_list, yaw_list, directions,\n",
    "                 steer=0.0, parent_index=None, cost=None):\n",
    "        self.x_index = x_ind\n",
    "        self.y_index = y_ind\n",
    "        self.yaw_index = yaw_ind\n",
    "        self.direction = direction\n",
    "        self.x_list = x_list\n",
    "        self.y_list = y_list\n",
    "        self.yaw_list = yaw_list\n",
    "        self.directions = directions\n",
    "        self.steer = steer\n",
    "        self.parent_index = parent_index\n",
    "        self.cost = cost\n",
    "        \n",
    "class Path:\n",
    "\n",
    "    def __init__(self, x_list, y_list, yaw_list, direction_list, cost):\n",
    "        self.x_list = x_list\n",
    "        self.y_list = y_list\n",
    "        self.yaw_list = yaw_list\n",
    "        self.direction_list = direction_list\n",
    "        self.cost = cost"
   ]
  },
  {
   "attachments": {},
   "cell_type": "markdown",
   "metadata": {},
   "source": [
    "### 2.3 节点拓展\n",
    "\n",
    "如第一节所述，使用车辆的运动学模型所拓展的点，其 (x, y) 并一定是个整数。但最终的路径还是依赖于栅格地图的，所以我们需要将拓展点的 (x, y) 坐标转换为栅格地图的坐标，即直接取整。"
   ]
  },
  {
   "cell_type": "code",
   "execution_count": null,
   "metadata": {},
   "outputs": [],
   "source": [
    "XY_GRID_RESOLUTION = 2.0  # [m]\n",
    "YAW_GRID_RESOLUTION = np.deg2rad(5.0)  # [rad]\n",
    "\n",
    "x_ind = round(x / XY_GRID_RESOLUTION)\n",
    "y_ind = round(y / XY_GRID_RESOLUTION)\n",
    "yaw_ind = round(yaw / YAW_GRID_RESOLUTION)"
   ]
  },
  {
   "attachments": {},
   "cell_type": "markdown",
   "metadata": {},
   "source": []
  },
  {
   "attachments": {},
   "cell_type": "markdown",
   "metadata": {},
   "source": [
    "### 2.4 One shot"
   ]
  }
 ],
 "metadata": {
  "kernelspec": {
   "display_name": "Python 3",
   "language": "python",
   "name": "python3"
  },
  "language_info": {
   "codemirror_mode": {
    "name": "ipython",
    "version": 3
   },
   "file_extension": ".py",
   "mimetype": "text/x-python",
   "name": "python",
   "nbconvert_exporter": "python",
   "pygments_lexer": "ipython3",
   "version": "3.10.6 (main, Nov 14 2022, 16:10:14) [GCC 11.3.0]"
  },
  "orig_nbformat": 4,
  "vscode": {
   "interpreter": {
    "hash": "e7370f93d1d0cde622a1f8e1c04877d8463912d04d973331ad4851f04de6915a"
   }
  }
 },
 "nbformat": 4,
 "nbformat_minor": 2
}
